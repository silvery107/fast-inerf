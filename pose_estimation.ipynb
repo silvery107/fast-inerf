{
 "cells": [
  {
   "cell_type": "markdown",
   "metadata": {},
   "source": [
    "# iNeRF"
   ]
  },
  {
   "cell_type": "code",
   "execution_count": 1,
   "metadata": {},
   "outputs": [],
   "source": [
    "%load_ext autoreload\n",
    "%autoreload 2\n",
    "%matplotlib inline"
   ]
  },
  {
   "cell_type": "code",
   "execution_count": 2,
   "metadata": {},
   "outputs": [
    {
     "name": "stderr",
     "output_type": "stream",
     "text": [
      "c:\\Users\\Sybokia\\AppData\\Roaming\\Python\\Python310\\lib\\site-packages\\tqdm\\auto.py:21: TqdmWarning: IProgress not found. Please update jupyter and ipywidgets. See https://ipywidgets.readthedocs.io/en/stable/user_install.html\n",
      "  from .autonotebook import tqdm as notebook_tqdm\n"
     ]
    }
   ],
   "source": [
    "import sys\n",
    "import os\n",
    "\n",
    "ROOT_DIR = os.getcwd()\n",
    "sys.path.insert(0, os.path.join(ROOT_DIR, \"src\"))\n",
    "\n",
    "import json\n",
    "import util\n",
    "import torch\n",
    "import numpy as np\n",
    "from model import make_model\n",
    "from render import NeRFRenderer\n",
    "import torchvision.transforms as T\n",
    "import tqdm\n",
    "import imageio\n",
    "import cv2\n",
    "import mediapy as media\n",
    "import matplotlib.pyplot as plt\n",
    "from PIL import Image"
   ]
  },
  {
   "cell_type": "markdown",
   "metadata": {},
   "source": [
    "## Config\n",
    "\n",
    "- `input`: the path of the source image for pixelNeRF.\n",
    "- `target`: the path of the target whose pose we want to estimate.\n",
    "- `output`: the directory to save rendered output."
   ]
  },
  {
   "cell_type": "code",
   "execution_count": 3,
   "metadata": {},
   "outputs": [],
   "source": [
    "config = {\n",
    "    'input': './input/1.png',\n",
    "    'target': './input/2.png',\n",
    "    'output': './pose_estimation'\n",
    "}"
   ]
  },
  {
   "cell_type": "markdown",
   "metadata": {},
   "source": [
    "## Visualize the input data\n",
    "\n",
    "We show both the source image and the target image. Our goal is to 1) use pixelNeRF to generate a NeRF based on the source image and 2) estimate the relative pose between them."
   ]
  },
  {
   "cell_type": "code",
   "execution_count": 4,
   "metadata": {},
   "outputs": [
    {
     "data": {
      "text/html": [
       "<table class=\"show_images\" style=\"border-spacing:0px;\"><tr><td style=\"padding:1px;\"><div style=\"display:flex; align-items:left;\">\n",
       "      <div style=\"display:flex; flex-direction:column; align-items:center;\">\n",
       "      <div>Source</div><div><img width=\"128\" height=\"128\" style=\"image-rendering:auto; object-fit:cover;\" src=\"data:image/png;base64,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\"/></div></div></div></td><td style=\"padding:1px;\"><div style=\"display:flex; align-items:left;\">\n",
       "      <div style=\"display:flex; flex-direction:column; align-items:center;\">\n",
       "      <div>Target</div><div><img width=\"128\" height=\"128\" style=\"image-rendering:auto; object-fit:cover;\" src=\"data:image/png;base64,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\"/></div></div></div></td></tr></table>"
      ],
      "text/plain": [
       "<IPython.core.display.HTML object>"
      ]
     },
     "metadata": {},
     "output_type": "display_data"
    }
   ],
   "source": [
    "input_image_np = np.array(Image.open(config['input']).convert(\"RGB\"))\n",
    "target_image_np = np.array(Image.open(config['target']).convert(\"RGB\"))\n",
    "\n",
    "media.show_images({\n",
    "    'Source':  input_image_np,\n",
    "    'Target': target_image_np\n",
    "})"
   ]
  },
  {
   "cell_type": "markdown",
   "metadata": {},
   "source": [
    "## PixelNeRF\n",
    "\n",
    "Load the pixelNeRF. Make sure the `./checkpoints/srn_car/pixel_nerf_latest` exist."
   ]
  },
  {
   "cell_type": "code",
   "execution_count": 5,
   "metadata": {},
   "outputs": [
    {
     "name": "stdout",
     "output_type": "stream",
     "text": [
      "EXPERIMENT NAME: srn_car\n",
      "* Config file: conf/exp/srn.conf\n",
      "* Dataset format: srn\n",
      "* Dataset location: data\n",
      "Using torchvision resnet34 encoder\n"
     ]
    },
    {
     "name": "stderr",
     "output_type": "stream",
     "text": [
      "c:\\Users\\Sybokia\\AppData\\Roaming\\Python\\Python310\\lib\\site-packages\\torchvision\\models\\_utils.py:208: UserWarning: The parameter 'pretrained' is deprecated since 0.13 and may be removed in the future, please use 'weights' instead.\n",
      "  warnings.warn(\n",
      "c:\\Users\\Sybokia\\AppData\\Roaming\\Python\\Python310\\lib\\site-packages\\torchvision\\models\\_utils.py:223: UserWarning: Arguments other than a weight enum or `None` for 'weights' are deprecated since 0.13 and may be removed in the future. The current behavior is equivalent to passing `weights=ResNet34_Weights.IMAGENET1K_V1`. You can also use `weights=ResNet34_Weights.DEFAULT` to get the most up-to-date weights.\n",
      "  warnings.warn(msg)\n"
     ]
    },
    {
     "name": "stdout",
     "output_type": "stream",
     "text": [
      "Load checkpoints/srn_car/pixel_nerf_latest\n"
     ]
    }
   ],
   "source": [
    "def extra_args(parser):\n",
    "    parser.add_argument(\n",
    "        \"--input\",\n",
    "        \"-I\",\n",
    "        type=str,\n",
    "        help=\"Input image to condition on.\",\n",
    "    )\n",
    "    parser.add_argument(\n",
    "        \"--target\",\n",
    "        \"-T\",\n",
    "        type=str,\n",
    "        help=\"Target image to estimate the pose.\",\n",
    "    )\n",
    "    parser.add_argument(\n",
    "        \"--output\",\n",
    "        \"-O\",\n",
    "        type=str,\n",
    "        default=os.path.join(ROOT_DIR, \"pose_estimation\"),\n",
    "        help=\"Output directory\",\n",
    "    )\n",
    "    parser.add_argument(\"--size\", type=int, default=128, help=\"Input image maxdim\")\n",
    "    parser.add_argument(\n",
    "        \"--out_size\",\n",
    "        type=str,\n",
    "        default=\"128\",\n",
    "        help=\"Output image size, either 1 or 2 number (w h)\",\n",
    "    )\n",
    "\n",
    "    parser.add_argument(\"--focal\", type=float, default=131.25, help=\"Focal length\")\n",
    "    parser.add_argument(\"--radius\", type=float, default=1.3, help=\"Camera distance\")\n",
    "    parser.add_argument(\"--z_near\", type=float, default=0.8)\n",
    "    parser.add_argument(\"--z_far\", type=float, default=1.8)\n",
    "    parser.add_argument(\n",
    "        \"--elevation\",\n",
    "        \"-e\",\n",
    "        type=float,\n",
    "        default=0.0,\n",
    "        help=\"Elevation angle (negative is above)\",\n",
    "    )\n",
    "    parser.add_argument(\n",
    "        \"--num_views\",\n",
    "        type=int,\n",
    "        default=1,\n",
    "        help=\"Number of video frames (rotated views)\",\n",
    "    )\n",
    "    parser.add_argument(\"--fps\", type=int, default=15, help=\"FPS of video\")\n",
    "    parser.add_argument(\"--gif\", action=\"store_true\", help=\"Store gif instead of mp4\")\n",
    "    parser.add_argument(\n",
    "        \"--no_vid\",\n",
    "        action=\"store_true\",\n",
    "        help=\"Do not store video (only image frames will be written)\",\n",
    "    )\n",
    "    parser.add_argument(\"--lrate\", type=float, default=1e-2)\n",
    "    parser.add_argument(\"--n_steps\", type=int, default=500, help=\"Number of steps for pose optimization.\")\n",
    "    return parser\n",
    "\n",
    "\n",
    "args, conf = util.args.parse_args(\n",
    "    extra_args, default_expname=\"srn_car\", default_data_format=\"srn\", jupyter=True\n",
    ")\n",
    "args.resume = True\n",
    "os.makedirs(args.output, exist_ok=True)\n",
    "\n",
    "device = util.get_cuda(args.gpu_id[0])\n",
    "\n",
    "z_near, z_far = args.z_near, args.z_far\n",
    "focal = torch.tensor(args.focal, dtype=torch.float32, device=device)\n",
    "\n",
    "in_sz = args.size\n",
    "sz = list(map(int, args.out_size.split()))\n",
    "if len(sz) == 1:\n",
    "    H = W = sz[0]\n",
    "else:\n",
    "    assert len(sz) == 2\n",
    "    W, H = sz\n",
    "    \n",
    "net = make_model(conf[\"model\"]).to(device=device).load_weights(args)\n",
    "\n",
    "# Create the renderer.\n",
    "renderer = NeRFRenderer.from_conf(\n",
    "    conf[\"renderer\"], eval_batch_size=args.ray_batch_size\n",
    ").to(device=device)\n",
    "render_par = renderer.bind_parallel(net, args.gpu_id, simple_output=True)"
   ]
  },
  {
   "cell_type": "markdown",
   "metadata": {},
   "source": [
    "## iNeRF"
   ]
  },
  {
   "cell_type": "code",
   "execution_count": 12,
   "metadata": {},
   "outputs": [
    {
     "name": "stdout",
     "output_type": "stream",
     "text": [
      "Input image: ./input/1.png\n",
      "Target image: ./input/2.png\n",
      "Input pose:\n",
      "tensor([[1.0000, 0.0000, 0.0000, 0.0000],\n",
      "        [0.0000, 1.0000, 0.0000, 0.0000],\n",
      "        [0.0000, 0.0000, 1.0000, 1.3000],\n",
      "        [0.0000, 0.0000, 0.0000, 1.0000]])\n",
      "Init pose:\n",
      "tensor([[1.0000, 0.0000, 0.0000, 0.0000],\n",
      "        [0.0000, 1.0000, 0.0000, 0.0000],\n",
      "        [0.0000, 0.0000, 1.0000, 1.3000],\n",
      "        [0.0000, 0.0000, 0.0000, 1.0000]], grad_fn=<SelectBackward0>)\n",
      "48 80 48 80\n"
     ]
    },
    {
     "ename": "ValueError",
     "evalue": "cannot reshape array of size 60672 into shape (16,16,3)",
     "output_type": "error",
     "traceback": [
      "\u001b[1;31m---------------------------------------------------------------------------\u001b[0m",
      "\u001b[1;31mValueError\u001b[0m                                Traceback (most recent call last)",
      "Cell \u001b[1;32mIn[12], line 94\u001b[0m\n\u001b[0;32m     92\u001b[0m     \u001b[39mif\u001b[39;00m i_step \u001b[39m%\u001b[39m \u001b[39m10\u001b[39m \u001b[39m==\u001b[39m \u001b[39m0\u001b[39m:        \n\u001b[0;32m     93\u001b[0m         predicted_poses\u001b[39m.\u001b[39mappend(torch\u001b[39m.\u001b[39mclone(cam_pose[\u001b[39m0\u001b[39m])\u001b[39m.\u001b[39mdetach()\u001b[39m.\u001b[39mnumpy())\n\u001b[1;32m---> 94\u001b[0m         fine_patches\u001b[39m.\u001b[39mappend(torch\u001b[39m.\u001b[39;49mclone(rgb[\u001b[39m0\u001b[39;49m])\u001b[39m.\u001b[39;49mdetach()\u001b[39m.\u001b[39;49mcpu()\u001b[39m.\u001b[39;49mnumpy()\u001b[39m.\u001b[39;49mreshape(\u001b[39m16\u001b[39;49m, \u001b[39m16\u001b[39;49m, \u001b[39m3\u001b[39;49m))\n\u001b[0;32m     95\u001b[0m         gt_patches\u001b[39m.\u001b[39mappend(torch\u001b[39m.\u001b[39mclone(target_image_flatten[idxs_sampled])\u001b[39m.\u001b[39mdetach()\u001b[39m.\u001b[39mcpu()\u001b[39m.\u001b[39mnumpy()\u001b[39m.\u001b[39mreshape(\u001b[39m16\u001b[39m, \u001b[39m16\u001b[39m, \u001b[39m3\u001b[39m))\n\u001b[0;32m     97\u001b[0m \u001b[39m#         pose_pred = predicted_poses[-1].copy()\u001b[39;00m\n\u001b[0;32m     98\u001b[0m \u001b[39m#         pose_pred[2, -1] -= args.radius\u001b[39;00m\n\u001b[0;32m     99\u001b[0m \u001b[39m#         pose_pred = pose_input @ pose_pred\u001b[39;00m\n\u001b[0;32m    100\u001b[0m \u001b[39m#         error_R, error_t = compute_pose_error(pose_pred, pose_target)\u001b[39;00m\n",
      "\u001b[1;31mValueError\u001b[0m: cannot reshape array of size 60672 into shape (16,16,3)"
     ]
    }
   ],
   "source": [
    "image_to_tensor = util.get_image_to_tensor_balanced()\n",
    "\n",
    "# Encoding the input image.\n",
    "print(f\"Input image: {config['input']}\")\n",
    "input_image = Image.fromarray(input_image_np)\n",
    "input_image = T.Resize(in_sz)(input_image)\n",
    "input_image = image_to_tensor(input_image).to(device=device)\n",
    "input_pose = torch.eye(4)\n",
    "input_pose[2, -1] = args.radius\n",
    "\n",
    "print(f\"Target image: {config['target']}\")\n",
    "target_image = Image.fromarray(target_image_np)\n",
    "target_image = T.Resize(in_sz)(target_image)\n",
    "target_image_flatten = np.reshape(target_image, [-1, 3]) / 255.0\n",
    "target_image_flatten = torch.from_numpy(target_image_flatten).float().to(device=device)\n",
    "\n",
    "cam_pose = torch.clone(input_pose.detach()).unsqueeze(0)\n",
    "cam_pose.requires_grad = True\n",
    "\n",
    "print(\"Input pose:\")\n",
    "print(f\"{input_pose}\")\n",
    "print(\"Init pose:\")\n",
    "print(f\"{cam_pose[0]}\")\n",
    "\n",
    "# Create optimizer.\n",
    "optimizer = torch.optim.Adam(params=[cam_pose], lr=args.lrate)\n",
    "n_steps = 100 + 1\n",
    "\n",
    "# Loss.\n",
    "mse_loss = torch.nn.MSELoss()\n",
    "\n",
    "# Sampling.\n",
    "# n_rays = 1024\n",
    "n_rays = 256\n",
    "sampling = 'patch'\n",
    "\n",
    "# Pose optimization.\n",
    "predicted_poses = []\n",
    "fine_patches = []\n",
    "gt_patches = []\n",
    "\n",
    "# for i_step in range(n_steps):\n",
    "for i_step in range(1):\n",
    "    # Encode.\n",
    "    # net.encode(\n",
    "    #     input_image.unsqueeze(0), input_pose.unsqueeze(0).to(device=device), focal,\n",
    "    # )\n",
    "\n",
    "    render_rays = util.gen_rays(cam_pose, W, H, focal, z_near, z_far)\n",
    "    render_rays_flatten = render_rays.view(-1, 8)\n",
    "    assert render_rays_flatten.shape[0] == H*W\n",
    "    if sampling == 'random':\n",
    "        idxs_sampled = torch.randint(0, H*W, (n_rays,))\n",
    "    elif sampling == 'center':\n",
    "        frac = 0.5\n",
    "        mask = torch.zeros((H, W))\n",
    "        h_low = int(0.5*(1-frac)*H)\n",
    "        h_high = int(0.5*(1+frac)*H)\n",
    "        w_low = int(0.5*(1-frac)*W)\n",
    "        w_high = int(0.5*(1+frac)*W)\n",
    "        mask[h_low:h_high, w_low:w_high] = 1\n",
    "        print(h_low, h_high, w_low, w_high)\n",
    "        print(\"mask shape \", mask.shape)\n",
    "        mask = mask.reshape(H*W)\n",
    "\n",
    "        idxs_masked = torch.where(mask>0)[0]                # selected center points ((h_high-h_low)*(w_high-w_low), )\n",
    "        print(\"idxs_masked shape \", idxs_masked.shape)\n",
    "        idxs_sampled = idxs_masked[torch.randint(0, idxs_masked.shape[0], (n_rays,))] # randomly sample center points (n_rays, )\n",
    "        print(\"idxs_sampled shape \", idxs_sampled.shape)\n",
    "        \n",
    "    elif sampling == 'patch':\n",
    "        frac = 0.25\n",
    "        mask = torch.zeros((H, W))\n",
    "        h_low = int(0.5*(1-frac)*H)\n",
    "        h_high = int(0.5*(1+frac)*H)\n",
    "        w_low = int(0.5*(1-frac)*W)\n",
    "        w_high = int(0.5*(1+frac)*W)\n",
    "        print(h_low, h_high, w_low, w_high)\n",
    "        mask[h_low:h_high, w_low:w_high] = 1\n",
    "        mask = mask.reshape(H*W)\n",
    "\n",
    "        idxs_sampled = torch.where(mask>0)[0]\n",
    "\n",
    "    render_rays_sampled = render_rays_flatten[idxs_sampled].to(device=device)\n",
    "\n",
    "    # rgb, _ = render_par(render_rays_sampled[None])\n",
    "    # loss = mse_loss(rgb, target_image_flatten[idxs_sampled][None])\n",
    "\n",
    "    # optimizer.zero_grad()\n",
    "    # loss.backward()\n",
    "\n",
    "    if i_step % 10 == 0:        \n",
    "        predicted_poses.append(torch.clone(cam_pose[0]).detach().numpy())\n",
    "        fine_patches.append(torch.clone(rgb[0]).detach().cpu().numpy().reshape(16, 16, 3))\n",
    "        gt_patches.append(torch.clone(target_image_flatten[idxs_sampled]).detach().cpu().numpy().reshape(16, 16, 3))\n",
    "\n",
    "#         pose_pred = predicted_poses[-1].copy()\n",
    "#         pose_pred[2, -1] -= args.radius\n",
    "#         pose_pred = pose_input @ pose_pred\n",
    "#         error_R, error_t = compute_pose_error(pose_pred, pose_target)\n",
    "        print(f\"Step {i_step}, loss: {loss}\")\n",
    "        \n",
    "    # optimizer.step()"
   ]
  },
  {
   "cell_type": "markdown",
   "metadata": {},
   "source": [
    "## Render the results"
   ]
  },
  {
   "cell_type": "code",
   "execution_count": 7,
   "metadata": {
    "scrolled": true
   },
   "outputs": [
    {
     "name": "stdout",
     "output_type": "stream",
     "text": [
      "Rendering 180224 rays\n"
     ]
    },
    {
     "name": "stderr",
     "output_type": "stream",
     "text": [
      "100%|██████████| 3/3 [11:41<00:00, 233.73s/it]\n"
     ]
    }
   ],
   "source": [
    "def create_image(patch):\n",
    "    image = np.zeros((128, 128, 3))\n",
    "    image[48:80, 48:80, :] = patch\n",
    "    image = (image * 255.0).astype(np.uint8)\n",
    "    return image\n",
    "\n",
    "# Rendering.\n",
    "overlay_frames = []\n",
    "n_poses = len(predicted_poses)\n",
    "render_poses = torch.from_numpy(np.array(predicted_poses))\n",
    "render_rays = util.gen_rays(render_poses, W, H, focal, z_near, z_far).to(device=device)\n",
    "with torch.no_grad():\n",
    "    print(\"Rendering\", n_poses * H * W, \"rays\")\n",
    "    all_rgb_fine = []\n",
    "    for rays in tqdm.tqdm(torch.split(render_rays.view(-1, 8), 80000, dim=0)):\n",
    "        rgb, _depth = render_par(rays[None])\n",
    "        all_rgb_fine.append(rgb[0])\n",
    "    _depth = None\n",
    "    rgb_fine = torch.cat(all_rgb_fine)\n",
    "    frames = (rgb_fine.view(n_poses, H, W, 3).cpu().numpy() * 255).astype(\n",
    "        np.uint8\n",
    "    )\n",
    "    target_image = (target_image_flatten.cpu().numpy().reshape([H, W, 3]) * 255.0).astype(np.uint8)\n",
    "    target_images = np.stack([np.array(target_image)]*n_poses, 0)\n",
    "    \n",
    "    im_name = os.path.basename(os.path.splitext(config['input'])[0])\n",
    "\n",
    "    frames_dir_name = os.path.join(config['output'], im_name + \"_frames\")\n",
    "    os.makedirs(frames_dir_name, exist_ok=True)\n",
    "\n",
    "    for i in range(n_poses):\n",
    "        if sampling == 'patch':\n",
    "            pred_patch_path = os.path.join(config['output'], f'./pred_patch_{i}.png')\n",
    "            pred_image = create_image(fine_patches[i])\n",
    "\n",
    "            gt_patch_path = os.path.join(config['output'], f'./gt_patch_{i}.png')\n",
    "            gt_image = create_image(gt_patches[i])\n",
    "            overlay_frame = (pred_image*0.5).astype(np.uint8) + (gt_image*0.5).astype(np.uint8)\n",
    "        else:\n",
    "            overlay_frame = (frames[i]*0.5).astype(np.uint8) + (target_images[i]*0.5).astype(np.uint8)\n",
    "        overlay_frames.append(overlay_frame)"
   ]
  },
  {
   "cell_type": "markdown",
   "metadata": {},
   "source": [
    "## Visualize the results\n",
    "\n",
    "We show the overlay of the image rendered with our predicted pose and the target image."
   ]
  },
  {
   "cell_type": "code",
   "execution_count": 8,
   "metadata": {},
   "outputs": [
    {
     "data": {
      "text/html": [
       "<table class=\"show_images\" style=\"border-spacing:0px;\"><tr><td style=\"padding:1px;\"><div style=\"display:flex; align-items:left;\">\n",
       "      <div style=\"display:flex; flex-direction:column; align-items:center;\">\n",
       "      <div>Step 0</div><div><img width=\"128\" height=\"128\" style=\"image-rendering:auto; object-fit:cover;\" src=\"data:image/png;base64,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\"/></div></div></div></td><td style=\"padding:1px;\"><div style=\"display:flex; align-items:left;\">\n",
       "      <div style=\"display:flex; flex-direction:column; align-items:center;\">\n",
       "      <div>Step 10</div><div><img width=\"128\" height=\"128\" style=\"image-rendering:auto; object-fit:cover;\" src=\"data:image/png;base64,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\"/></div></div></div></td><td style=\"padding:1px;\"><div style=\"display:flex; align-items:left;\">\n",
       "      <div style=\"display:flex; flex-direction:column; align-items:center;\">\n",
       "      <div>Step 20</div><div><img width=\"128\" height=\"128\" style=\"image-rendering:auto; object-fit:cover;\" src=\"data:image/png;base64,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\"/></div></div></div></td><td style=\"padding:1px;\"><div style=\"display:flex; align-items:left;\">\n",
       "      <div style=\"display:flex; flex-direction:column; align-items:center;\">\n",
       "      <div>Step 30</div><div><img width=\"128\" height=\"128\" style=\"image-rendering:auto; object-fit:cover;\" src=\"data:image/png;base64,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\"/></div></div></div></td><td style=\"padding:1px;\"><div style=\"display:flex; align-items:left;\">\n",
       "      <div style=\"display:flex; flex-direction:column; align-items:center;\">\n",
       "      <div>Step 40</div><div><img width=\"128\" height=\"128\" style=\"image-rendering:auto; object-fit:cover;\" src=\"data:image/png;base64,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\"/></div></div></div></td><td style=\"padding:1px;\"><div style=\"display:flex; align-items:left;\">\n",
       "      <div style=\"display:flex; flex-direction:column; align-items:center;\">\n",
       "      <div>Step 50</div><div><img width=\"128\" height=\"128\" style=\"image-rendering:auto; object-fit:cover;\" src=\"data:image/png;base64,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\"/></div></div></div></td><td style=\"padding:1px;\"><div style=\"display:flex; align-items:left;\">\n",
       "      <div style=\"display:flex; flex-direction:column; align-items:center;\">\n",
       "      <div>Step 60</div><div><img width=\"128\" height=\"128\" style=\"image-rendering:auto; object-fit:cover;\" src=\"data:image/png;base64,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\"/></div></div></div></td><td style=\"padding:1px;\"><div style=\"display:flex; align-items:left;\">\n",
       "      <div style=\"display:flex; flex-direction:column; align-items:center;\">\n",
       "      <div>Step 70</div><div><img width=\"128\" height=\"128\" style=\"image-rendering:auto; object-fit:cover;\" src=\"data:image/png;base64,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\"/></div></div></div></td><td style=\"padding:1px;\"><div style=\"display:flex; align-items:left;\">\n",
       "      <div style=\"display:flex; flex-direction:column; align-items:center;\">\n",
       "      <div>Step 80</div><div><img width=\"128\" height=\"128\" style=\"image-rendering:auto; object-fit:cover;\" src=\"data:image/png;base64,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\"/></div></div></div></td><td style=\"padding:1px;\"><div style=\"display:flex; align-items:left;\">\n",
       "      <div style=\"display:flex; flex-direction:column; align-items:center;\">\n",
       "      <div>Step 90</div><div><img width=\"128\" height=\"128\" style=\"image-rendering:auto; object-fit:cover;\" src=\"data:image/png;base64,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\"/></div></div></div></td><td style=\"padding:1px;\"><div style=\"display:flex; align-items:left;\">\n",
       "      <div style=\"display:flex; flex-direction:column; align-items:center;\">\n",
       "      <div>Step 100</div><div><img width=\"128\" height=\"128\" style=\"image-rendering:auto; object-fit:cover;\" src=\"data:image/png;base64,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\"/></div></div></div></td></tr></table>"
      ],
      "text/plain": [
       "<IPython.core.display.HTML object>"
      ]
     },
     "metadata": {},
     "output_type": "display_data"
    }
   ],
   "source": [
    "data = {}\n",
    "for i, f in enumerate(overlay_frames):\n",
    "    step = i*10\n",
    "    data[f\"Step {step}\"] = f\n",
    "media.show_images(data)"
   ]
  },
  {
   "cell_type": "code",
   "execution_count": null,
   "metadata": {},
   "outputs": [],
   "source": []
  }
 ],
 "metadata": {
  "kernelspec": {
   "display_name": "Python 3",
   "language": "python",
   "name": "python3"
  },
  "language_info": {
   "codemirror_mode": {
    "name": "ipython",
    "version": 3
   },
   "file_extension": ".py",
   "mimetype": "text/x-python",
   "name": "python",
   "nbconvert_exporter": "python",
   "pygments_lexer": "ipython3",
   "version": "3.10.7"
  }
 },
 "nbformat": 4,
 "nbformat_minor": 4
}
