{
 "cells": [
  {
   "cell_type": "markdown",
   "metadata": {},
   "source": [
    "# iNeRF"
   ]
  },
  {
   "cell_type": "code",
   "execution_count": 1,
   "metadata": {},
   "outputs": [],
   "source": [
    "%load_ext autoreload\n",
    "%autoreload 2\n",
    "%matplotlib inline"
   ]
  },
  {
   "cell_type": "code",
   "execution_count": 2,
   "metadata": {},
   "outputs": [],
   "source": [
    "import sys\n",
    "import os\n",
    "\n",
    "ROOT_DIR = os.getcwd()\n",
    "sys.path.insert(0, os.path.join(ROOT_DIR, \"src\"))\n",
    "\n",
    "import json\n",
    "import util\n",
    "import torch\n",
    "import numpy as np\n",
    "from model import make_model\n",
    "from render import NeRFRenderer\n",
    "import torchvision.transforms as T\n",
    "import tqdm\n",
    "import imageio\n",
    "import cv2\n",
    "import mediapy as media\n",
    "import matplotlib.pyplot as plt\n",
    "from PIL import Image"
   ]
  },
  {
   "cell_type": "markdown",
   "metadata": {},
   "source": [
    "## Config\n",
    "\n",
    "- `input`: the path of the source image for pixelNeRF.\n",
    "- `target`: the path of the target whose pose we want to estimate.\n",
    "- `output`: the directory to save rendered output."
   ]
  },
  {
   "cell_type": "code",
   "execution_count": 3,
   "metadata": {},
   "outputs": [],
   "source": [
    "config = {\n",
    "    'input': './input/1.png',\n",
    "    'target': './input/2.png',\n",
    "    'output': './pose_estimation'\n",
    "}"
   ]
  },
  {
   "cell_type": "markdown",
   "metadata": {},
   "source": [
    "## Visualize the input data\n",
    "\n",
    "We show both the source image and the target image. Our goal is to 1) use pixelNeRF to generate a NeRF based on the source image and 2) estimate the relative pose between them."
   ]
  },
  {
   "cell_type": "code",
   "execution_count": 4,
   "metadata": {},
   "outputs": [
    {
     "data": {
      "text/html": [
       "<table class=\"show_images\" style=\"border-spacing:0px;\"><tr><td style=\"padding:1px;\"><div style=\"display:flex; align-items:left;\">\n",
       "      <div style=\"display:flex; flex-direction:column; align-items:center;\">\n",
       "      <div>Source</div><div><img width=\"128\" height=\"128\" style=\"image-rendering:pixelated; object-fit:cover;\" src=\"data:image/png;base64,iVBORw0KGgoAAAANSUhEUgAAAIAAAACACAIAAABMXPacAAAPoklEQVR4nO3cWYzV133A8d9Z/ue/3X2dYe7AMAybMWAwNjHGgFuRxG3iDUVp1UhV1deqUpWXqn3rex9aNUpdKU3UOrYap6kdO3GUOnVsAwHb2LENDDsDA8x293v/+1n6gFVZbSolVn0PQ//fh9E8zMP53Y/u/S/nfwcppSBNX1j3Av6/lwJoLgXQXAqguRRAcymA5lIAzaUAmksBNJcCaC4F0FwKoLkUQHMpgOZSAM2lAJpLATSXAmguBdBcCqC5FEBzKYDmUgDNpQCaSwE0lwJoLgXQXAqguRRAcymA5lIAzaUAmksBNJcCaC4F0FwKoLkUQHMpgOZSAM2lAJpLATRHdS/g44QQMZe3fycYMeNOWdhn3Z0y56nTF19951wgMRJ8z8ya3z2w22IGIKR7XZ95SPv/igjC6Oi7p//hlTePznX7AVdxtHmisnfbdMXC+++d3rN9Y8Y2LZPpXeRnl2aAgRe8eercd149dnxupRWpyI9AKkQQAWUhublR3Tk1vmtt9cjhBwq5jMkMTIjG1X4W6QSI4uSl19996fiZk3Mri/3I9yOlFCIYU6KQlEGIlHIQX5tlj2yb3La2cnDvzqmpKcYMw6D0bpHQBhCE8Wtvn3nu9fc+mu/c6gbdQaCkAoJNmxFCQt+jUuK4L9q3DB7kqFo7Vt69876xtetKhdyD2zfeMzNpM0YpBljdxwk9AFKq107NfuvHJ355vbUyTAaDkCccCGK2yZjBAz/yPFN40JwTnVuYBwZjVm0KZevYyuRz2d33bti5fs1962oP7d6az9ig0OpV0APwxjtn/+bl4+9db7X6oR/EUiGg2LRNilDseSLwsNeSy+fIYNFQnNkZs7G1b4+F2FGEAsKAEQO1dU3xwI4Nu6bqTx7cXSxkRz/F/0mjBgjC+MRHl/7x1ZNHLy8t9cIgSgAhIMTOuFTJoNMToUeCFixdIMObjEgnX2XjG7vZqQHHgBkQAqAAYVAIlAKZNAr2gZ2b9kzXvvpbu8dKOYxX2aXlSK8DOOe3FpZOX1284YlOJEIugFIgxHZtixp+q6V4SJKeas3RsMmosrMlOrbRyzaGkoFhAKaAAQB94nOf3gzR8ycvvnlm7tLyYM/6yiM7ZibrJWYQhFaHxEgBhp5/4tTp989eW+lHXiQUoYAxEIyUioeegTHDSdC+iQbLVMXUoJCpemZ1qCxFDaAGIAIYwe1XVilQAPDxj5ueePbY2ROzzqWl7kPrqw9s21CvlUc52qdudABKqcXFlWMn3z/24cWOkUfIQYQprAiC0POkF5azphy0obVgqBCBBKvg2TUfO4oyZDBFKAACQgBhAAVSggJQt98MSknVT+R7i8PL//7LN4v0D5ZaX3v8YMZxRjbdp26EAFI1O71WfwCxX7ftLKVdGXtgCDAVUkCh3++RRBilMQMVCOIyW+P5NYhlEDOJaSqMASOEqQJQSkmplBQfvw+UAgQgESjVE/Kd5bD1/f/IUfH4Fw9lMpmRDfjpGh0AwmhtY/zQvvs7/f7VhSXHdbOWGRpWX8UeoYlDkHSpuQaVSkomEqQkjFg2YoYARRgxLYsQgglRCrhUXKhEcCGF5FJJCUIAuT2LElG0uHTrG89820T8wIF91WptZDN+ikYIgNDaxvjvPXHY7/f+7p9eWOi0arVqoZAvMhkZyscsIDZSTjLsdzptLkHJhCQ+AmEQI0OcGClqGKbJEAIhhJQgJYu4CJMk4UJwgTE2DcpDDzebOdVbWFp57nsv+n7wxS8crtYqIxvzN23Ud0Md29q/977lVvvlnx9vNrsxF9msk8lksgbtAIqICZbFTFNFUZQkYjhAsmcipAad0HKh3lCQxcwwKLURRgAWF5ZBYyG4EAQRopLBUlPcuuwnS0WHnp69mAjcHIpHD+3bun7CtMwRD/vrNGoAxtjOndtK5bLtui/88CeLK83h0CpXZamAXYi4YokgxHKoUuFwAKGvgkHo+zGPIFdSXj8ojRuVWqFYwoRShAxK7dvXMlKGQThc6ajFa6i3GCRtB1yp2IfnLy9w53pIHr1/y/1b1k1Ui3faLW5t94KWV5p//pd/9YNXfhIoYpeqxUq1VMwR5nRjtBQpL+a430PNG7x3U8YBSA6YIrcIxYbR2JhpbDArVce1HcMwCTEJScJg/vxs/+o5sXQRe8tEBgbFmVwxogW2/n5jYtoF+dS+bY9uX7+5UR2vFrWM/CvTtiHjOrYKeyhsUYXDxf5iv9kvjpeqFdfNlgG4VKRYJAYEKuT9ZRRHUiU4TGC5myxf6sxN4enthektrF7PW5ZjkMtnPui+9xbvzpNkgFWMCIAUQz9QxXoggQ8jrvBf/+z0d49+9PTntn5pz5atE6Vq+Y5g0AYgpVCSYyUzjFGLJtL3mvM3+z27ULIy+QwxkiSRtoVq6zBzWdhJ+itYJULEioewPCu85WF/mUxuEvUxW/DOqTdw/xpTMUISKYUVkkJJMGm2ynLFOOGxAETsxVg9//6141eWv7x96sgjOybKWVv3vpvOLUkFimCwLEqwJEogrPresieiJBGG49qOJRRBzJDlOhZlzBzhNVU4wCqU3INBEl2KWq2lXm0KB57Ru8lUqEAijAARUEoAlrlxnK9kM44RyRWfR1EUCyEVKMP83pmFnsIHN09sqBc2jJeRPgNtAAiRarWWyWT8KBQ8sU0zYztcRH48TAIbEJIioQZzbBNMFikbmdOol6H9FRi0knCoVARRR/QNYZiUYAMJBBIhRQhGAIJz5FbRxExxvLF1sgZR/NFi/5bPI4GCKOn2/WGY/GgWrre9PY3yEw+SesFxNJ0jaQOwLPPJJ5+6eOniybffJpgWCkXLsbngQdcXuC8NpkDyJOZxbNq27biJSUVlXGRKpNvEwxXptRSPuAxABNjMAsYIKYoRQqAkkGzR2vgglNYYlGFC62Wr7JpnF7vn28FQYs8LYRgtUAOwsTSIb/T8QxvHH9rSKBc0XDZrA6CU7tm797HHfsc0zQvnz/f6vYjHoT+EJAQgyrYRBqVwIpUUMgwT03Zsx+bZDLIdHtdlexkGiyrmknPJBQdiYoyRUgrhXBXG7oFyY8fMOsdmocAXOknNJjvX1SYr0dV2cKXtdwLeavWHw2DJMTthMrc8vL7UfWr/PWOl7Ig/jjRvygdB4HneD1/8t5deetELfCml62Ywy8x3vbNXbxFiIWIgQgBRTBk1mWGZQGkokSKM8jhsNyUXghg0aDvRCiGYFmruzG6RX1OvVdfnWT1vO7a97MurzYFDcYkIh8By3397vrMYo5grQLiQzzRqpQrmhzbVn96/betklY5wU0H/YykA0Ot2u93u1bkrSqGJiQnbcX529Piz//rycte7fmM5kQCEYWwgTABjoBQzhpiJqCGFAiniKEZJ4IqAuoXC1CZaGiMZFyuAwJus5CcKTs4igUQrQ77cHuRMPJazBr53Zml4sRUMEoUoyzh2nkLFQoe3r/39h7fsmFlLRrXpf0cA3M73fQCwLAtj3Gy3F5ZW3jr57is/ff1Ws3dpfgkQRQgrQIAJEEJt23ZdAUgAjiUQwy6vaRDDLhRLmJJO6BPTci2GeIKDoJEzGpUspbQXyH6YIKksiJBKLqx451aCNseIGEzJvIG31+2nd6/9wy8fch17NFPfKU/GAYDzidv3lVKpUio1xur79uz6cPbC337ruWbXb/X6UgLCBCThUsZS2rYFBkOUkEIZlcZsxwnixCTUzuSoZdqOLZNEOu6FleZib2XzmmI1Z5cc2vaTGwvdugvbJ/KIkF9cH0ggiuJQKmbb69c1GDNGNvUdBPA/KxYLxWJh68YNe3ft+Ombx775zy/cXGrHMUeEIqkiwWUYENuyMq4aLLfnomisEVOLJBwjyBJGOJiMmbZNmel1+8cvr0yX7c1riuMZalVcJbnFSMEEG3FPQM7NOATVC5l7picNOrqX5Y4GuJ1pmptnpifXjG1av+7Hr73xzgdnz1+eD3mIME1EwpM48T3D7NvZoYwGiVscmHmaLQai3xkE+ZxdcCyHGdlSgTn2zX7/2plbkznzvok8UUgiXM/n11XUbHsYyZgliSVjOtprslUAcDvHcR753ANbN818eObct5/7/rm5W/OLTamQEiJJpBQxYGXwxIpDYAMDqwFikWVFceA7TjnnOiY1bBOTAnecRd+bbfMNeSuIY0TcRo3Ne0kYJxuqmV0bJ11rpM+hrhoAAHBse+2EXS0Xx2uVE6c+eOa737+52IpiDlLKiEcgkzA0wsB0IgwJAlsWq4FhJTH3w7CQdYtZ16bUolQgjHLZAVE3esuBDIVhlovFhYWFexuVg/dtzLrWKIdaTQC3sy1794571zYmDIqf/ZcX51c6nf6Q8wRiJRIhuZBCGDLOOtmwLxLDEWZ2EDmCyzgWxazrmpRQo8dlbxi2QilAESSiROQpnilnx0pZMtoni+6g09DfNG84PD17/uLc/HMv/ODM5Wu9QcC5AkQSLohludUStlzALMAmKU9ww42AONlcrVzMu3biDwcDHyNABPeDYNDpPr1j6i+O7N84WaN0pI/9rmKA28VxfOnKlaMnTj3znecvXJnjcSwFRxgp0yRukbl5w80abm4oGZTGhFUAatRKeRR6nAvLsQd+2Ol2Cyr8+pf2fv2rn8d41LdFVz3A7YIgeP2Nt77xzb9/5+13AVQulx0GcTsSklrUzVE3zzIFli1wqxgSR9kus6yyybjgzW6HiehrB3b82VMHp8Yro78vvfqOAb8y27YP7H84Dr0k8K5dvVKv5IdBaPSGPd/3un4Sx0oiEYbUGWBiJnYpKY83owAlkYuSR7ev+6Mv7J0ar2rZFLhLAAAgk3H37Xv42tVrvzj289D3s/mM7RpLK93FVt8ftmNsStMWcSAQkYbHE+4TWsnYj+xY/ydPHNgxPaFrS2Z1PMH6a1YqlQ5//nC9WhsOBlnXEVGARWxhRWIP+20VdKN+N+714vYSv3GFDduHt6/708cP7N++ccRnPp/s7nkHAACldMPMzJNHvhIn4sxHH3aavSThLqNHnj7y6G8fFgorhBVghPFbp2bdXPaPv/LY1qkJvWu+Sw7Cn0wKMXt29tLFC0rdfnQU7dy1a3p6+pN/Mze/QAieXFPXtcj/6i4EAID/NtT/cm6j7oTvl92dAKuou+ogvBpLATSXAmguBdBcCqC5FEBzKYDmUgDNpQCaSwE0lwJoLgXQXAqguRRAcymA5lIAzaUAmksBNJcCaC4F0FwKoLkUQHMpgOZSAM2lAJpLATSXAmguBdBcCqC5FEBzKYDmUgDNpQCaSwE0lwJoLgXQXAqguRRAcymA5lIAzaUAmksBNJcCaO4/AdEGg6H+CYMJAAAAAElFTkSuQmCC\"/></div></div></div></td><td style=\"padding:1px;\"><div style=\"display:flex; align-items:left;\">\n",
       "      <div style=\"display:flex; flex-direction:column; align-items:center;\">\n",
       "      <div>Target</div><div><img width=\"128\" height=\"128\" style=\"image-rendering:pixelated; object-fit:cover;\" src=\"data:image/png;base64,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\"/></div></div></div></td></tr></table>"
      ],
      "text/plain": [
       "<IPython.core.display.HTML object>"
      ]
     },
     "metadata": {},
     "output_type": "display_data"
    }
   ],
   "source": [
    "input_image_np = np.array(Image.open(config['input']).convert(\"RGB\"))\n",
    "target_image_np = np.array(Image.open(config['target']).convert(\"RGB\"))\n",
    "\n",
    "media.show_images({\n",
    "    'Source':  input_image_np,\n",
    "    'Target': target_image_np\n",
    "})"
   ]
  },
  {
   "cell_type": "markdown",
   "metadata": {},
   "source": [
    "## PixelNeRF\n",
    "\n",
    "Load the pixelNeRF. Make sure the `./checkpoints/srn_car/pixel_nerf_latest` exist."
   ]
  },
  {
   "cell_type": "code",
   "execution_count": 6,
   "metadata": {},
   "outputs": [
    {
     "name": "stdout",
     "output_type": "stream",
     "text": [
      "EXPERIMENT NAME: srn_car\n",
      "* Config file: conf/exp/srn.conf\n",
      "* Dataset format: srn\n",
      "* Dataset location: data\n",
      "Using torchvision resnet34 encoder\n",
      "Load checkpoints/srn_car/pixel_nerf_latest\n"
     ]
    }
   ],
   "source": [
    "def extra_args(parser):\n",
    "    parser.add_argument(\n",
    "        \"--input\",\n",
    "        \"-I\",\n",
    "        type=str,\n",
    "        help=\"Input image to condition on.\",\n",
    "    )\n",
    "    parser.add_argument(\n",
    "        \"--target\",\n",
    "        \"-T\",\n",
    "        type=str,\n",
    "        help=\"Target image to estimate the pose.\",\n",
    "    )\n",
    "    parser.add_argument(\n",
    "        \"--output\",\n",
    "        \"-O\",\n",
    "        type=str,\n",
    "        default=os.path.join(ROOT_DIR, \"pose_estimation\"),\n",
    "        help=\"Output directory\",\n",
    "    )\n",
    "    parser.add_argument(\"--size\", type=int, default=128, help=\"Input image maxdim\")\n",
    "    parser.add_argument(\n",
    "        \"--out_size\",\n",
    "        type=str,\n",
    "        default=\"128\",\n",
    "        help=\"Output image size, either 1 or 2 number (w h)\",\n",
    "    )\n",
    "\n",
    "    parser.add_argument(\"--focal\", type=float, default=131.25, help=\"Focal length\")\n",
    "    parser.add_argument(\"--radius\", type=float, default=1.3, help=\"Camera distance\")\n",
    "    parser.add_argument(\"--z_near\", type=float, default=0.8)\n",
    "    parser.add_argument(\"--z_far\", type=float, default=1.8)\n",
    "    parser.add_argument(\n",
    "        \"--elevation\",\n",
    "        \"-e\",\n",
    "        type=float,\n",
    "        default=0.0,\n",
    "        help=\"Elevation angle (negative is above)\",\n",
    "    )\n",
    "    parser.add_argument(\n",
    "        \"--num_views\",\n",
    "        type=int,\n",
    "        default=1,\n",
    "        help=\"Number of video frames (rotated views)\",\n",
    "    )\n",
    "    parser.add_argument(\"--fps\", type=int, default=15, help=\"FPS of video\")\n",
    "    parser.add_argument(\"--gif\", action=\"store_true\", help=\"Store gif instead of mp4\")\n",
    "    parser.add_argument(\n",
    "        \"--no_vid\",\n",
    "        action=\"store_true\",\n",
    "        help=\"Do not store video (only image frames will be written)\",\n",
    "    )\n",
    "    parser.add_argument(\"--lrate\", type=float, default=1e-2)\n",
    "    parser.add_argument(\"--n_steps\", type=int, default=500, help=\"Number of steps for pose optimization.\")\n",
    "    return parser\n",
    "\n",
    "\n",
    "args, conf = util.args.parse_args(\n",
    "    extra_args, default_expname=\"srn_car\", default_data_format=\"srn\", jupyter=True\n",
    ")\n",
    "args.resume = True\n",
    "os.makedirs(args.output, exist_ok=True)\n",
    "\n",
    "device = util.get_cuda(args.gpu_id[0])\n",
    "\n",
    "z_near, z_far = args.z_near, args.z_far\n",
    "focal = torch.tensor(args.focal, dtype=torch.float32, device=device)\n",
    "\n",
    "in_sz = args.size\n",
    "sz = list(map(int, args.out_size.split()))\n",
    "if len(sz) == 1:\n",
    "    H = W = sz[0]\n",
    "else:\n",
    "    assert len(sz) == 2\n",
    "    W, H = sz\n",
    "    \n",
    "net = make_model(conf[\"model\"]).to(device=device).load_weights(args)\n",
    "\n",
    "# Create the renderer.\n",
    "renderer = NeRFRenderer.from_conf(\n",
    "    conf[\"renderer\"], eval_batch_size=args.ray_batch_size\n",
    ").to(device=device)\n",
    "render_par = renderer.bind_parallel(net, args.gpu_id, simple_output=True)"
   ]
  },
  {
   "cell_type": "markdown",
   "metadata": {},
   "source": [
    "## iNeRF"
   ]
  },
  {
   "cell_type": "code",
   "execution_count": null,
   "metadata": {},
   "outputs": [
    {
     "name": "stdout",
     "output_type": "stream",
     "text": [
      "Input image: ./input/1.png\n",
      "Target image: ./input/2.png\n",
      "Input pose:\n",
      "tensor([[1.0000, 0.0000, 0.0000, 0.0000],\n",
      "        [0.0000, 1.0000, 0.0000, 0.0000],\n",
      "        [0.0000, 0.0000, 1.0000, 1.3000],\n",
      "        [0.0000, 0.0000, 0.0000, 1.0000]])\n",
      "Init pose:\n",
      "tensor([[1.0000, 0.0000, 0.0000, 0.0000],\n",
      "        [0.0000, 1.0000, 0.0000, 0.0000],\n",
      "        [0.0000, 0.0000, 1.0000, 1.3000],\n",
      "        [0.0000, 0.0000, 0.0000, 1.0000]], grad_fn=<SelectBackward0>)\n"
     ]
    },
    {
     "name": "stderr",
     "output_type": "stream",
     "text": [
      "/home/silvery/anaconda3/envs/monorec/lib/python3.7/site-packages/torch/functional.py:568: UserWarning: torch.meshgrid: in an upcoming release, it will be required to pass the indexing argument. (Triggered internally at  /opt/conda/conda-bld/pytorch_1646755953518/work/aten/src/ATen/native/TensorShape.cpp:2228.)\n",
      "  return _VF.meshgrid(tensors, **kwargs)  # type: ignore[attr-defined]\n"
     ]
    },
    {
     "name": "stdout",
     "output_type": "stream",
     "text": [
      "Step 0, loss: 0.08876761049032211\n",
      "Step 10, loss: 0.053155094385147095\n",
      "Step 20, loss: 0.01851617731153965\n",
      "Step 30, loss: 0.018893860280513763\n",
      "Step 40, loss: 0.014758773148059845\n",
      "Step 50, loss: 0.01035289280116558\n",
      "Step 60, loss: 0.008575592190027237\n",
      "Step 70, loss: 0.00871390663087368\n",
      "Step 80, loss: 0.009569994173943996\n",
      "Step 90, loss: 0.011951303109526634\n",
      "Step 100, loss: 0.008705182932317257\n"
     ]
    }
   ],
   "source": [
    "image_to_tensor = util.get_image_to_tensor_balanced()\n",
    "\n",
    "# Encoding the input image.\n",
    "print(f\"Input image: {config['input']}\")\n",
    "input_image = Image.fromarray(input_image_np)\n",
    "input_image = T.Resize(in_sz)(input_image)\n",
    "input_image = image_to_tensor(input_image).to(device=device)\n",
    "input_pose = torch.eye(4)\n",
    "input_pose[2, -1] = args.radius\n",
    "\n",
    "print(f\"Target image: {config['target']}\")\n",
    "target_image = Image.fromarray(target_image_np)\n",
    "target_image = T.Resize(in_sz)(target_image)\n",
    "target_image_flatten = np.reshape(target_image, [-1, 3]) / 255.0\n",
    "target_image_flatten = torch.from_numpy(target_image_flatten).float().to(device=device)\n",
    "\n",
    "cam_pose = torch.clone(input_pose.detach()).unsqueeze(0)\n",
    "cam_pose.requires_grad = True\n",
    "\n",
    "print(\"Input pose:\")\n",
    "print(f\"{input_pose}\")\n",
    "print(\"Init pose:\")\n",
    "print(f\"{cam_pose[0]}\")\n",
    "\n",
    "# Create optimizer.\n",
    "optimizer = torch.optim.Adam(params=[cam_pose], lr=args.lrate)\n",
    "n_steps = 100 + 1\n",
    "\n",
    "# Loss.\n",
    "mse_loss = torch.nn.MSELoss()\n",
    "\n",
    "# Sampling.\n",
    "# n_rays = 1024\n",
    "n_rays = 256\n",
    "sampling = 'center'\n",
    "\n",
    "# Pose optimization.\n",
    "predicted_poses = []\n",
    "fine_patches = []\n",
    "gt_patches = []\n",
    "\n",
    "for i_step in range(n_steps):\n",
    "    # Encode.\n",
    "    net.encode(\n",
    "        input_image.unsqueeze(0), input_pose.unsqueeze(0).to(device=device), focal,\n",
    "    )\n",
    "\n",
    "    render_rays = util.gen_rays(cam_pose, W, H, focal, z_near, z_far)\n",
    "    render_rays_flatten = render_rays.view(-1, 8)\n",
    "    assert render_rays_flatten.shape[0] == H*W\n",
    "    if sampling == 'random':\n",
    "        idxs_sampled = torch.randint(0, H*W, (n_rays,))\n",
    "    elif sampling == 'center':\n",
    "        frac = 0.5\n",
    "        mask = torch.zeros((H, W))\n",
    "        h_low = int(0.5*(1-frac)*H)\n",
    "        h_high = int(0.5*(1+frac)*H)\n",
    "        w_low = int(0.5*(1-frac)*W)\n",
    "        w_high = int(0.5*(1+frac)*W)\n",
    "        mask[h_low:h_high, w_low:w_high] = 1\n",
    "        mask = mask.reshape(H*W)\n",
    "\n",
    "        idxs_masked = torch.where(mask>0)[0]\n",
    "        idxs_sampled = idxs_masked[torch.randint(0, idxs_masked.shape[0], (n_rays,))]\n",
    "    elif sampling == 'patch':\n",
    "        frac = 0.25\n",
    "        mask = torch.zeros((H, W))\n",
    "        h_low = int(0.5*(1-frac)*H)\n",
    "        h_high = int(0.5*(1+frac)*H)\n",
    "        w_low = int(0.5*(1-frac)*W)\n",
    "        w_high = int(0.5*(1+frac)*W)\n",
    "        mask[h_low:h_high, w_low:w_high] = 1\n",
    "        mask = mask.reshape(H*W)\n",
    "\n",
    "        idxs_sampled = torch.where(mask>0)[0]\n",
    "\n",
    "    render_rays_sampled = render_rays_flatten[idxs_sampled].to(device=device)\n",
    "\n",
    "    rgb, _ = render_par(render_rays_sampled[None])\n",
    "    loss = mse_loss(rgb, target_image_flatten[idxs_sampled][None])\n",
    "\n",
    "    optimizer.zero_grad()\n",
    "    loss.backward()\n",
    "\n",
    "    if i_step % 10 == 0:        \n",
    "        predicted_poses.append(torch.clone(cam_pose[0]).detach().numpy())\n",
    "        fine_patches.append(torch.clone(rgb[0]).detach().cpu().numpy().reshape(16, 16, 3))\n",
    "        gt_patches.append(torch.clone(target_image_flatten[idxs_sampled]).detach().cpu().numpy().reshape(16, 16, 3))\n",
    "\n",
    "#         pose_pred = predicted_poses[-1].copy()\n",
    "#         pose_pred[2, -1] -= args.radius\n",
    "#         pose_pred = pose_input @ pose_pred\n",
    "#         error_R, error_t = compute_pose_error(pose_pred, pose_target)\n",
    "        print(f\"Step {i_step}, loss: {loss}\")\n",
    "        \n",
    "    optimizer.step()"
   ]
  },
  {
   "cell_type": "markdown",
   "metadata": {},
   "source": [
    "## Render the results"
   ]
  },
  {
   "cell_type": "code",
   "execution_count": null,
   "metadata": {
    "scrolled": true
   },
   "outputs": [
    {
     "name": "stdout",
     "output_type": "stream",
     "text": [
      "Rendering 180224 rays\n"
     ]
    },
    {
     "name": "stderr",
     "output_type": "stream",
     "text": [
      "100%|██████████| 3/3 [00:37<00:00, 12.62s/it]\n"
     ]
    }
   ],
   "source": [
    "def create_image(patch):\n",
    "    image = np.zeros((128, 128, 3))\n",
    "    image[48:80, 48:80, :] = patch\n",
    "    image = (image * 255.0).astype(np.uint8)\n",
    "    return image\n",
    "\n",
    "# Rendering.\n",
    "overlay_frames = []\n",
    "n_poses = len(predicted_poses)\n",
    "render_poses = torch.from_numpy(np.array(predicted_poses))\n",
    "render_rays = util.gen_rays(render_poses, W, H, focal, z_near, z_far).to(device=device)\n",
    "with torch.no_grad():\n",
    "    print(\"Rendering\", n_poses * H * W, \"rays\")\n",
    "    all_rgb_fine = []\n",
    "    for rays in tqdm.tqdm(torch.split(render_rays.view(-1, 8), 80000, dim=0)):\n",
    "        rgb, _depth = render_par(rays[None])\n",
    "        all_rgb_fine.append(rgb[0])\n",
    "    _depth = None\n",
    "    rgb_fine = torch.cat(all_rgb_fine)\n",
    "    frames = (rgb_fine.view(n_poses, H, W, 3).cpu().numpy() * 255).astype(\n",
    "        np.uint8\n",
    "    )\n",
    "    target_image = (target_image_flatten.cpu().numpy().reshape([H, W, 3]) * 255.0).astype(np.uint8)\n",
    "    target_images = np.stack([np.array(target_image)]*n_poses, 0)\n",
    "    \n",
    "    im_name = os.path.basename(os.path.splitext(config['input'])[0])\n",
    "\n",
    "    frames_dir_name = os.path.join(config['output'], im_name + \"_frames\")\n",
    "    os.makedirs(frames_dir_name, exist_ok=True)\n",
    "\n",
    "    for i in range(n_poses):\n",
    "        if sampling == 'patch':\n",
    "            pred_patch_path = os.path.join(config['output'], f'./pred_patch_{i}.png')\n",
    "            pred_image = create_image(fine_patches[i])\n",
    "\n",
    "            gt_patch_path = os.path.join(config['output'], f'./gt_patch_{i}.png')\n",
    "            gt_image = create_image(gt_patches[i])\n",
    "            overlay_frame = (pred_image*0.5).astype(np.uint8) + (gt_image*0.5).astype(np.uint8)\n",
    "        else:\n",
    "            overlay_frame = (frames[i]*0.5).astype(np.uint8) + (target_images[i]*0.5).astype(np.uint8)\n",
    "        overlay_frames.append(overlay_frame)"
   ]
  },
  {
   "cell_type": "markdown",
   "metadata": {},
   "source": [
    "## Visualize the results\n",
    "\n",
    "We show the overlay of the image rendered with our predicted pose and the target image."
   ]
  },
  {
   "cell_type": "code",
   "execution_count": null,
   "metadata": {},
   "outputs": [
    {
     "data": {
      "text/html": [
       "<table class=\"show_images\" style=\"border-spacing:0px;\"><tr><td style=\"padding:1px;\"><div style=\"display:flex; align-items:left;\">\n",
       "      <div style=\"display:flex; flex-direction:column; align-items:center;\">\n",
       "      <div>Step 0</div><div><img width=\"128\" height=\"128\" style=\"image-rendering:pixelated; object-fit:cover;\" src=\"data:image/png;base64,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\"/></div></div></div></td><td style=\"padding:1px;\"><div style=\"display:flex; align-items:left;\">\n",
       "      <div style=\"display:flex; flex-direction:column; align-items:center;\">\n",
       "      <div>Step 10</div><div><img width=\"128\" height=\"128\" style=\"image-rendering:pixelated; object-fit:cover;\" src=\"data:image/png;base64,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\"/></div></div></div></td><td style=\"padding:1px;\"><div style=\"display:flex; align-items:left;\">\n",
       "      <div style=\"display:flex; flex-direction:column; align-items:center;\">\n",
       "      <div>Step 20</div><div><img width=\"128\" height=\"128\" style=\"image-rendering:pixelated; object-fit:cover;\" src=\"data:image/png;base64,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\"/></div></div></div></td><td style=\"padding:1px;\"><div style=\"display:flex; align-items:left;\">\n",
       "      <div style=\"display:flex; flex-direction:column; align-items:center;\">\n",
       "      <div>Step 30</div><div><img width=\"128\" height=\"128\" style=\"image-rendering:pixelated; object-fit:cover;\" src=\"data:image/png;base64,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\"/></div></div></div></td><td style=\"padding:1px;\"><div style=\"display:flex; align-items:left;\">\n",
       "      <div style=\"display:flex; flex-direction:column; align-items:center;\">\n",
       "      <div>Step 40</div><div><img width=\"128\" height=\"128\" style=\"image-rendering:pixelated; object-fit:cover;\" src=\"data:image/png;base64,iVBORw0KGgoAAAANSUhEUgAAAIAAAACACAIAAABMXPacAAAR0ElEQVR4nO2d2ZNdR3nAv+/r7rPdZe6dfdMuy5tsCSzbMSbY2BgVRgQMWaAKHpKHvOY/yUtSLJVKilRShFQKgglLbGOIbcWAjeUgG1m7LM1o9jtz97P08uVB4BhDKCph7rnynN/DmXmYqvt1/6a/Pl/36XPROQcF+UF5B7DTKQTkTCEgZwoBOVMIyJlCQM4UAnKmEJAzhYCcKQTkTCEgZwoBOVMIyJlCQM4UAnKmEJAzhYCcKQTkTCEgZwoBOVMIyJlCQM4UAnKmEJAzhYCcKQTkTCEgZwoBOVMIyJlCQM4UAnKmEJAzhYCcKQTkTCEgZ/IXwMzWujTTrXbPMecdzqCROX62Y7705urzpxcaKSeWd5XhroMTM6O1idGqp/IMbJBgXqcktTGnz1773qkrJy8tNxJuxiZDvtPzHn3PzMP3HDy0dybwvVwCGzD5CGh1+s+cPPfCpYWfrm4trsedftZpdy0bEfrzYemhAxOfeuSOu/bPzE2PDz62ATNoAUmaLW+0/uPlq999/cK59eZqJ91sdEySATMSCUl+4MlS+WjZ//DRmU996J6981Pv7nQ0oLYxQ5KknX662Oh849nzp5aWrjY2r603e7F22oJ1glAi6V6cxpnrxT9q2I3WRr/b/chDR2/dP1+vlonyv1/YDgYhoNeP01S34+zcQuO5U2snL165vrG11u0lccbaCiQhBRstiZxNIelnzT6hvrwlvmfanW7nww8euefwwYnxOpEYQLQDZtsFJNourG6uNXvXGua7P7h0rrl6dX2jG2fGGEISCgWCEpTqJOl2hW6LeCvbXHYucdWRc6az1GudX2k/cn7xieP3H9g7D4jbHfCA2V4BzW58Za11aal1dmHzx69uvHr1YjPVqc4AgEgIAiUp7fac05h2cHPJNpfZdAQYJBKWDfmNvn3x2tK5zdbFtfZnH3/g/iO3qHfXlLCNjXHOnb+6/Mql5QvX1s+c31joJC1jMucQ0fM9NsZkCTnGtAtxy2xcod4GQkaSQFUwrOtojFWdvaqmcCWjr7+xuJi++LnN3kcfvLNcCrcv7AGzjQLW1hoLi9dXllcvX17b6LS7KSXsGEFKAmCtjUfAvaZeuYzdFWXaJMAIZb0KhnUKahiOWFVi9B14BkRq6OmLq+cbJ8++ufaZ4+89tGd6+yIfJNsoYGVtY2Vpqd/YaLbXtppxjIoMOUcWCbRBk7i0rRvXobtMcYMCCVHVgo+yJPwR7VedilgGTAoAAQQ7ZMdvbsZf/PGZZcbP3n/ovbfORWGwffEPhm0UUBupKLDtrbW0s9lvJ6kXEAjnFKICANPZst0Gxi2yMSphvbJBH0UggooO6+yXWIYoFZIERHYWgFiQBdzo89dPXVzYbP35VveR+26plKLta8IA2EYBs7NTd9x2cOH6osyuljA12mgKENhm1mrDWiNbZEDlOxGwDBg9UpH2qxxWWAQgAyZEJABABkBmZmZpGRsd/YM3Vra2euvt/oeOHdwzO4437d3RNgrwlHrgvnsI8dyVa1uNdRaZMZn0S1pKzQi+BFV3irAHDJqBUAamNM7RKHhlkB4ID/CtxdG31kkZGNlBou1Prm+1nn5lo9n59IeO7J2b2r6GbCvbW14KIW6/9ZaPP/KgT447m3XdHOfuqEyrSnuSQRIrz4U1UBWSPkc1iCoYROiHEETg+aB8UJKlYCHhRiXMDpwFx+DQMl1ppf/48vmvPvvq2mZzWxuyfWx7fV+tlu+779hj738g63U80JR2pY4j1CXBClgoD6MKR6NcnoRoBJWPykNPkedjEGIYQVBCLwDlg/RASkACZGALzrGFJHUX1lv/dPL00ydf7XR7292W7WDbBQgh9+zZ89Hjj7337jvjTsf2u5j10GWhhBCtsBYyzWnCacJJn9M+Zn2ymRAkPJ+CMvoRKB+VR74HwgMhAQUQgkCUhIJ1mi6sXH/ymZNnzl921m53c37nDKKq9DxvpFreMz35/MkXS9WqDwyWRUCCMNM667Ug7nMWAxFXIucFWJvC6jiUJrg0DqRABCgtsUUy4DSxQHbC92Xouc2VrLXCrWuvLv/sX8dLU/Xqnr27b64JeRACmBkRKoHgtNPZ0toY4SXOi8mvKsTMZkZ3od+CrAVJhUcm2KbQWsH5OwEUlkbRi4AAhVMmI+cJSUKiR4Bpt7N8Sa5clulGX8IPX3pp3565E56anpoU8qZZrhhUoOxs2o8kNJOuceyFWvjaaUvhiAgDyDyLll0KvRSdYTcJ5TovnsE5wYgofJKB9ITvCcVG+opNCq11fe0sXH1NdFdZOlmK1lcWvvPMc4j02EP37ZqblUoNqGn/PwYkwFhz+eK5LE2EA9axFYRCAnQdIIJPQRniyCRbyBqzDrQApYKo6pZew6SDLqXanFA1EQRkYqn78ep1fe2cvn7Wbb2JbDOLhIwkL146/43nxzMRnnjY2z07TXQT5KIBCVBEsU6UFEoJRO6bVKeSGMA5EiGJyJZrkHVc0gCrOW5jU0mljB9h85qwmvwqeaUoktRthlvL/atn4kunKNsCaxwyO0ghQSFVxVxpdb/9X9dVpf4Hvj8xOiLFsG8hDEIAIh44dOje+x945fQZsM4TpF3GVrmMUFihWPmBq9YTayyyjTfBpa7XsEQwNodhxJ0lvobaq/HMNLbWzNrF/oWXMOsCOwBABgQw2ugs67DKrNpoZUsvXtns6s988I75yTEph9rBgEZAGJVOfOyJl0+dfv30KZNpAWlIInHKMQMi6i7JUJSqQITCN91lZxPb2QD0OCpDmoiFcw5ks3nMbS1A8zJnfQIGBABAQGRmYJBBrzJngnHT582s95fpwmbP/Mn7Dxw5tFsNsYPB3S3s3rP38RMfCQJx9sxZk3Z6aZZmKZBndZrFoAKWwoewTEKQH+rNq9ZqSNoMDnQKtods9JsvQboJ4BAYERAJEYDBMaAXlvbcbetTThAxmCzb6oqvXFptpe4zsX7grn2BN6Rz8uAETExOPfGJP9Q6mZvbtba8cvq1M7qT9Y1lRqs1YiwDgVJCeZTLo6hC3Vw2RoM1CA7ZIltI1gCA8AZACMyAUgkZ1ucPRnO3ZeSnad+yB6Q4o8YW/AAb7ReAkd53eM9wOhjo/fLM9Myn//hzzz3/3M9e/1l9fGphafXUa2/0Um0d28wQxYTggEFGIqyysbazxggoJBoEx4iAhERIN2otRBZK1ca8kcnZW49Go5NeT0OcNjLDjJyCZl7cBCL15Z8sKU/cd+tuXw1dLhp0wTI1NX3i8RN7d+/u9fps4ZtPPfX0919Y2dgylq3OkACsJQIKQuRRK3zmDEwXMgRgJEJEBEAAIKnKdVEddV5Un9tXH58br5bqkRYNZEyblqwD0GSEacXJuUbnKz9ZqgT+4b1TwzYn5/Zo4g0a6xv//syzn/+bvzt/ZUE7RhSkfFC+CMpIUaKdQUG6Z1fPQNomEiQEEIHwo9EpKNWmpmfC6oT166Wosms0GC176+34wnr7StdspYKlB8L3SsFUvTxfGzkyO/pHR6ePHZosR+HwLFfkXLKPTYx/6olP1Eeqf/X5L75y5oI2FqxhBDQCFfsyAGtZKCrPGEYm8urjMgiSzCYkd0/P7t1/R1iqO+CW5tVu5imqRcG+OmqIUdiWA+syk8HqpiOH7ARbbWx2/+27qkOzrZ//mkkQ+o8++kElxZe+/A8vvfp6PzagM4egACw5KcuoKrZc5Xgew4qLSqioDj0CT9amM1mNVFTzsYSw0uottdPxcjg6UrrTk36jd6WXNTNnLWjHa62uIHoDzT+/5JQn33f77iF54nEogvCD4Pcf+kClVv/ak9/+t+88tbaxZQEIiSRbJPZ8Ko341dGMvUz5qloRUgjLaRCuZiJJLJIXeljy/WbfrXXTiTJXQ7FrRPUyra1rG8PMCcMyAFoHFr5zamUk8o/snxmGxx2HQgAABEFw5O7DUsparfrVf3lycblhICHrbmQk9qUKfGetY6OAjQhNoIwfxEBxwoBuhqgsBUVBO03WuzFEsh6qvVWfkay2fYfMnOm00ROeFD9ddDOv4WQ1mh4fEXk7GBYBABCG4Z133FarjczNzv31F/72zYVFnSbEjohcT1rP97yKlCRBOCGtCrT0hVTW2VVjpabpUJSFABLrne61Zrp/NNg3HngSsGkvZ2wYkV2cxo0OB+BefGP53kPTE/VKIeCXCMPw4IH9Y2NjzPC1b3zrxy+f0jqTSAJaqQOuWFmqBTLmRCRMQvhSkR/6GeLVLE6QJzwKiCYqlWaiNhJd9nGu5hPa1rppOPaUAMAsjddNVg/r59a7o9WtW2ZG812oGC4BN6iUS8cfe3j3rpkvfOnvv//CSZP0yWlhbaZ1aqxjR+wsO4OsseqA2fdQyOtxmmVuXOFYKGb8qN3vG+CJSJW90nKv12xrJT1EImZ0pl4VBsR6O943xfnWx8MoQEo5Oz0VBsFHH//w1WtXryws6Cxhx+TYosoAyQJYZx0DknVOWxf4iqRoWpZMHlAJqRKWSBgLLCSOlcOqSZmcdo4kTftq1/hIp91KK8R5f49d/rcB/xulKLr78G0fP/7o1GgdrWGdSqtF2oFu0/Y6kPZE1oW4yf22SWOjMydkqrwNhwt92LIi8ENFgbYiMeT53kgpYOfQmIoUu0ZkLVS9xkbW73Pe5zKHcQTcwPPUoYP7+498oJf0v/7Nf1/barJJPRKYNA2yIyZCSWids+BScMxhoKRlMNqGSo6LQIGyBnuJ6WpGYK11SYmadOPligc8OVHbOzOm8l4dGl4BAFCpVO49dk+1WhmpjX7v2edfef01m4EA4K7NnHUMwgFG7JiNQ2RChsD3NEHDCIjRMw4T7qewZWzLMAI5whLGY7Vd82OVB+/Yu2uinvvS0FALAIAgCG6/7XalvMj3JsZHnnzqGTZW+L7sGW21cVY4K0qOkRmdg4oFFn6QMC33jQ/oUjZWsIyIE2f7OsV9B+bnZ8Zu3zW5Z2q0KMR+KzxPHTywv/GeNSK3eH3x9PmLWaLJcwrYAINLSEwJCZCSA9KM6IQMkMAysAPn2JZIgnXdODs4Id9318G7907um64PQ+/DTSEAAJRSBw7sX11dOf7Q77U3Vy4trjuAQIlMd00PnFJKKQRpGR2gZhQATMjIQgiMTdraZGemKP7YvQ8ePTB9aGasHPp5t+nn3BwCELFWr/tKzs3N3LFvtrGx1tb9klBgnetbx8BCeDVEl1lOnUtSG1FUEc6i1dzt9JqrSoqPvf/wiQfvOjQ3EQVDdAb/5hAAAEqp2dlZx+7ArYevL1/faHR6WWy1QTBobcrOQ/bKVa3TzCTW1QIBttdOO21m4ys6fveeP3vig/tmx8IhewPCTSTAO3z3Uc8PlxcWxiamfCmurWwo54yxYI1Osz5A1VliZa2QUTf1A3a2FHihrx66bf4v/vQT+3cN4xmCm0YAAPhBsP/AgX63c31p+dlnviXA+IQWOTMgwKbNRt9ZZrb9LKjOyZE6S9w9O//Eg+85/oFj++Yn8w7/13MzCQCAqFQ6euxYqTICgn70w/+s9I1xsNVsKhVM7NqPftRoNJfNMicrU1Ph/GT90w8f+eQnPxIE3vDsQb6DnPeE/2845zYbmxur62maOOua7U6z1yMvtChQyLXVtQtvnLn9wJ57jhzet3/fSH0k73h/E7kI4BsPNvyuMMZYaxnwxsIOIjKzJ6XIu8r9bRi8gLcWv4Y0JwyYHKvBHfd6uF9LTgKKzv8FOQn4efopPOQ/Ana6g8ELwLcuBTAcW5I7ehDkLYB/6ccOJG8BwDvcQS4C3jEDMPANDTvRQe4j4C12qIO8BeDbxwO/7bpTyFvAO9LRzpsPchHwK/37zkHw6/7mXcpQbcjwWxe4cQJ4BxRsuacgeFtt/Pbu3inzwTAIgHc6ePf/3/8Pw5OCEH7++oed1P05CbjRxb+aXnZW198gxxSEv7j+hn5/9yvJNwXhr/yy4xiSSXjnUgjImUJAzhQCcqYQkDOFgJwpBORMISBnCgE5UwjImUJAzhQCcqYQkDOFgJwpBORMISBnCgE5UwjImUJAzgzsa6x+6eV4N97+P6CPHm7+G4wo9jpB7ty1AAAAAElFTkSuQmCC\"/></div></div></div></td><td style=\"padding:1px;\"><div style=\"display:flex; align-items:left;\">\n",
       "      <div style=\"display:flex; flex-direction:column; align-items:center;\">\n",
       "      <div>Step 50</div><div><img width=\"128\" height=\"128\" style=\"image-rendering:pixelated; object-fit:cover;\" src=\"data:image/png;base64,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\"/></div></div></div></td><td style=\"padding:1px;\"><div style=\"display:flex; align-items:left;\">\n",
       "      <div style=\"display:flex; flex-direction:column; align-items:center;\">\n",
       "      <div>Step 60</div><div><img width=\"128\" height=\"128\" style=\"image-rendering:pixelated; object-fit:cover;\" src=\"data:image/png;base64,iVBORw0KGgoAAAANSUhEUgAAAIAAAACACAIAAABMXPacAAASVElEQVR4nO2d6W9c13XAz7nbe282crgNSYmiSC2WZUeyrcV7I2exa8Gpm6BI0zhIkMBo+6F/Sz+kTYMgRVO0DRqkQNrArrPUTZzEsRPXsR3ZkiVroWRSJCXOcJa3zFvuvacf5MRO4rT5EM4bWe8HcPAAEjPn3t+727n3DdFaCwX5wfIO4EanEJAzhYCcKQTkTCEgZwoBOVMIyJlCQM4UAnKmEJAzhYCcKQTkTCEgZwoBOVMIyJlCQM4UAnKmEJAzhYCcKQTkTCEgZwoBOVMIyJlCQM4UAnKmEJAzhYCcKQTkTCEgZwoBOVMIyJlCQM4UAnKmEJAzOQsggiTV1lK+YeSIyOuDiWij5Z+80LoSxsTEjCfmp70d26c4u7EaZT4CjLVLlzbOrLRfWb+6etVPCCPGxzTdvWvy0M0zC3NTjsztzhgwOPinJMN+fPL1q+dbG+c2O2dXOuvNsBcbX+vQ6hKTD803Pvr+vUcPLLiOGnBguTBoAa1OePLMxhsb6yeXr7zRClc2wp6fRP2kF/Z1poUEJsXtjcnH3r/3+L3757c3BhlbLgxOABFdbfef+9nS+dbVC832y2+21jpx4Ee9jq8TDZaACICk5LKkyhX1ZwfmP/PIXfv37nSUHEyEuTCgrtYYOnW++dNXV05dvXx2rXWp099o++2WnyUpgAVjOKIQkEUBZUSGB75+MguSKDh+/213Hd4/PlJl79HBecsFEEGr67/8auvFpcun19YvtYPlZq/dC8Mg0mkKZATnTALpRJCxaReyKG1F3JFrUeuJ3tWzrfaFy+0Hjuy9Zd9Ozt+DI/OWd0Grzd4PXzj3/On1s5v+hSvNdq/f9kNjDForBII1nCw3SdLbNNGmMAE3adproZCsMiLrDVGd2DY1fnTv/GceuufeQzeL99zsaAvLY61db3a//ePTz59ePdMKzjX9jeamNRYsIWdCMIHAwCa9num3eNKl3hXb7yLnjpTgVbA6xmoTiapcCu3myZW2fr4dpB+86+ZqpbR1MQ+eLWwBYRA88d8vfu1Hr11qxxf9LEisNYYIBGPKUZAmWdjFqAPdVYxbJmxynTDOVXUM3bquTMXOiPUqVnkoHOTocFyYqj52aN9H7r1l/65ZxnCLwh4wW9UCjDHn3zj/4s9fOXt+ua0hAw4kAThDzhmC1mkcyyy0mxeyjYtMB1Iy7njWHTG17YlbN6pKqkRMAUgCTgb6Bs+sBX/z/ZdP9cLH7z9waN/2iudsUfCDZKsEWGOWly+fX1rqdTYy7gmpNHnAXLJWa221hiQwnRXdehO1j2CZKrHqROZMxOUpEmUSHnKJjAMgWQOMA4AF1ozt068ta+l+otu/5+DcZH1ki+IfGFslgAuxuGfX7NRobXlZInX7KQpCTjZDBI4m1b2rtnkZEx8ZofKMV89kPfPGSFWBeyAUcAaMAQICABkCRiA14Eaov/PSucurzdVW78NHdu/cNi4436JSDICtEsAYW9y98KG7D516/eTKRqsELpLNmE2Z1JpprYkBOg7TVRRATlm746YyTV4dnCpwBxgjBGQABABIQNc8gEWb2U43fjG6GvX8vtYP3rFz3+K269fBFs6ClJQfOnb/6vr6F//xX3WaTrksAkyFG6HsIyBUQMyZ6hjTseWCyuPgVdErg/RIKGAckIgsWAsEABbo2lLZAjJAllg8sREG33+p2fUfd+Xi3MzWFWRL2UIBiFgZGf3j4w+/cX7pW0//MA17yrOogAQiU4nFDFwCZnQJHZe5ZXBKoFxyHFQlYhyIgCxYTcaAMWANAAEQWAuAZFEDXujEX/+fU6MOffr43dOT41tXlq1ja9f3iNiYmf74o49Mjtb8VtPEoUdxGU1NkMMQtCVjyBjqRxR1bdSGfpvpmCNwIZlXQccDoVBIUBKkBMGBcUAAJGAEYHWarna6Tz534rmXX88yvaVl2SK2fGEppNy//+bts41XT50RSgnGJHAjUDCBlkBbSFJKA6CYlLSqhPUZHG1QeRK8OnAB0gHG0BrghrQGowEIOAclMQlBGxP2lprnvvGUWZiZOLh/D7veBoNBrOwFZ/WyTMOOzwARXG2siImVFWiTxhS2IdggHYBXpZExaqUYbMJ2jiihNIZCElOIhpmMeAYIDAE5CIGc+tb3afWC76/+3EZPfmei4qrduxcQr6c12gAE0MbaehSGEjIb+36bMm2Up6W0KXOlYNpkVkeQ9ED3wWYwMkmIsHoatjFkEkp1lBKZYBwkE1wKzohbLaIutdeCsy/KeMMVlPobz/70pdnpqWqtMjk+xsV1kzLa8kCjIFhevmCNdiTnEqI0igLU2nJXayhZ7vFKmWUVk22S6UNo0GqyU4CMLr5Is7diNgPVBnddp1RxhHXQcptSpxsvn9HnXsDOGqI1lqcRW146/Y3vVlPDPnTfwYUdc0JeH7sIWy4AGYuzxBBYkznSOiDiOEoImDVSaiIE4UBtAtK2jntIBlMfuoBCQqlm10+CULw04ThObdR1ktjttbrrS93TP9MbZzHpgk0J0RgAIJKlcysr//7syYyrR93S3EzjusgXbbkA1yuVy9VyuVyulMHqqqNERkEWa2AcmCeUZWVbqQPtguZ5mwVgMur3sCOFlNop4eoJphQrc+ZrN2inS6/0zjyvw5aNA0YarDVIFpGxzBKGhOfD5D9OrFn33Mf/QE6Njw7/Am3rWwDi+GRjx875/e878OqJVzxuhWT9bmZ0Yhk36HNlOK/xWj3OtmHvskl9sIkNW4YxGN+GHqOLL2Rx2PLjXvfNbON1G/eANFoDZAEACRCArO0mTBsFMVu/mlz6yVInzD55bN/itikhhtrBIAar+Z2Lh47ezhgJhm+ePxnHKaR9ZERMGgIGqKSysmTrU8bxWPdy5l+xJjZ+E1BRqQJJTCvnQGtjAgCLQEDE3kpOAAJyxlyvEjhVqE4Zd0RndKkV/+2J1aaffPqBvXfcND/MDgYhoFQqP/jB40RoDLmu+/qp18sJ7/VTazNgXKcJoO+WUQoPx6axVEO3ljYvWJNB3COwkCVgQkb6WmKIABAIERAZIgCBdB01ur08uxhVa5YhIzJp0u3if77ZDP4LPhXp+w4uuMO6sz+g6ZqU8v33HRsbHedcLCzuDoLo2ed/utENw0ST5VmaMOxJzxoLjAmoNmQSZf5VazIwGsEiGSRz7a0YXgM4AhEI1x3bttfbdguNb9uw2Iz61gpi3DJc79Bz2El+sswlu3PfjpI7jAeNBn0u6NLSBZ3qJElOnHztO08/8+1nfhTFBpAjovJc7lU1KxFXaeBnnStpcJW8GgMSSRdNigjIkDPGri21GIJwGgv7ajtuH5mc8crllU54sRv4WhBTxBVTqlwp7WzUj+4Y++ydc4f3zqnh64sGvWCZX1i8drHv1ltuu+0OpeR3f/CsHybWos00ij6XaDmyyihjjnTr1gRg+pAiACFjiIgAiABcVsZnRuf2qrH50nhjbLQ2XlElZiiNL0Y6sAwMowzjOO0E0akr8qsvXHalOrDQGLbxIIejib+EiM6cOv3Vr33t3554qrkZEArgTCiHpJPxCqJjklhba5MedC5hFjHGGOfIGFNeY+fN3rb94zPzirMMEIHm6q7DYL3bP7sZXYwoIkYgUSrludOj1dmR2u3b6n9y+/ShPVOVkjc86Yo8l+yIeNP+fX/x+OMzM9Nf/so/rzZ71hqd9NEaoQAVcyrVONMpF5bQJgGXamSs6o2MoDNG3rg7vn1idHzEBW31ajdaaYdT1dJYtbyPS9GJL4VpT2sizFJodoARe40z9lJmrD5y07Za2cux4O8k55wJIm6fn/vc5z47MTH+15//4tLlK9aAoUQAci4tIhdKqaquT2aGqfHJ0sSYEC4CxEEUWuan1hHck2KiWlrvwVqQNmpeY9TzFNq17Lzf72uyxvYNrANKhsxom4FS/M6b5tRwHDEaiiBc1z3+8HEu5Oe/8OXT55czY0yacBYwsoY73K1BqcxVWXjVGBwAKRhkTjVFRWEaazZTEZ7kY2Wvm6SbYQzESwLnak6ozUpmU2Ot1XE/XgMkbTiy7722VvPU+xZmhuG441AIAIBKtfLwQw9aQ1/40t8vrayF/VQnMRrLVAaCkx1R7qgUCIYMt5qUdjlz3AAJjJEJzkpWc6UUrOWHa+2wUZUzNWmMR2F2OaWMAMjEWdLu81IgfnZBT1X5RLU0PTGS+/MgwyIAAErl8iOPPLx9++w3n/jW17/51GbXt5nhZDnjKbYy5VVrrgCTaZk6krsuKGWV7Bu9nEU6opkSV4gVrxRru+bHu8bYwoTLOZhuvBxbhgzIBP2oCdqh6s8vNW/bNTNZrxYCfgXP8+668+jEWL3Van/rez/ww0THfQRQFvqEXWNUdczIzJDNEBTnjDgpJ0HwozDIzIyCEZeXJkeudtlGP50flbsnnNhAK04N50pxBpCmSSfATiIuduOR9faemTGZ68R0uAQAADK2sLjrr/7yc1ywb3/vh5udnu5bYa1DkFgTpRkfGUdkJmV9hhmAo8iRApXbTPqcQChWd1ijWuqFxCWb9NSOhF0M9ZVMS+EIzqS1FWm3T0/0+nqj119oUL45iqETAABCioO3HXz8sT8988a5IPBTrXXaB2ACeMak5oIjQ0RN1pIFKksmpecYjs0ssX1jGIxxZ7wqhIDUGi74aMUN+wbQAKArYPuEnBop+71uUmWU9/+xy38a8O4g7rv11k99/GMTtQpHS1lq44CnPdnvsl7LBB2MA5FFFPumH/TjNM0yI2XE5XIEKwGlJKulsuIqztASlj3hOdKmGScz7cCe2SnKkrDVTKOIKOcnZIexBVyjUqt+9GOPImNf+ad/efXMWUuG0liyHkNIkAxnCMQJDUFMYK0HjuVMgEOBMS3NKuCQxUSbTpb2NaWp1qkerbg7RuVYtUxJMjc5unNmXMqcMxPDKwAAxsbHP/nYJ3Ytzv/dl/7hqaefSTPDjWYmFVkSWwBDvGSxZCyBAWuwIjwuy5UkM2saw67mWao19TRvBnGYaKFETerGxAxnMFuv3rt/59xkPffU0FALAADXde++514p5Jkzb5y9uJSGfWYNd40indnMWCOYVQiQUIaMI0OLHFnPYjtKFJAFMKgM15JlQrBJ16nXR2sl5+a5qfnG2DAsxPKP4P9FOerQ0SN//tnH5mcnyhIwiygNeRbK4ArvroHfwiRgaWLjJO0nWZzpOAOrBQAhmSzVcTyqRE2oeto7sDA3NzlyaHF2YXooah+GvwVcQyn10IeP/eSZJ38cdHtRCmT7GaK1jIiQrOCKC8bQxtaQIaE4SgbErKHMYByCwlrcPrJ/1/6F6Vt2TO6dGR+ehzuuDwGI2Jibb0zPNeqXRr3UT8PIDwwjYa21hoCYYIrbxMQGMoJKrLnHEaxhWYxpqHvBgT3T9xzcfXB+as/sxFBtjV0fAgDAcbzDd91/+fJFv9Pe9EUn7LbTEMhya6m1kgJJAOmUM7AZY8aih0RxGIe+x+ydi5MPHTt8+NbF7ZMj3pB9A8J1I0BKdd+xD5w6ffLMy89lOq2XRRCFBpglAqPj1SXM0srknJU6bvWUkimHEsdJZY8uznzkofsOH9g7OzGadyHehetGAABMTE09+Id/1Ny40l++YFY3BVqOGQAjg2Rs3FpnaZ+gZLKymKiperVmkk8cP/bAPYfmZica40P6NNn1JMBx3TuOHHEc75WXX6o/+/1Wc2NqsjE62UgNdsP0ymbv0vrGyuqaI8oyDg42bn30gQ8cu//wttlppcTw7EH+GgPbEyaA308VWGvjqO/3fEQslUsW4dzZ8ytrV4jJsJ+url1ptTcrrnPfkTuOHr1NKcmH+3TiIAW89Ym/97fWWhtjCPBaYoeIGGNKiiGZ6f/fvBcEXNcM5h6hX768w0QBwKAEFHf9b2WAvSQWjeBdGOww9XZLKBy8xXUwT3hvk6OAohEA5COAisHgbQYm4J0TIQIgIPrFAy83NPmOAYWDXATgb06HblwHubQA/OULwI0+HgzDNJR+4+IGYmACfq1yfzU5kffxtBzJdUMG4e1B+O39ghsrcZRjF4TvuPiNSeoNQ95bku9yu99YLWBgAvDd7ut3rWv67b96DzLILuh3r9MbpfZh4F3Qb6tZ+h3+5r1J3mPAW9xYlf5OhmEhdkNTCMiZQkDOFAJyphCQM4WAnCkE5EwhIGcKATlTCMiZQkDOFAJyphCQM4WAnCkE5EwhIGcKATlTCMiZQkDObNWeMBHhO0+Y/OKn4Nf4XxecRT1s7w0aAAAAAElFTkSuQmCC\"/></div></div></div></td><td style=\"padding:1px;\"><div style=\"display:flex; align-items:left;\">\n",
       "      <div style=\"display:flex; flex-direction:column; align-items:center;\">\n",
       "      <div>Step 70</div><div><img width=\"128\" height=\"128\" style=\"image-rendering:pixelated; object-fit:cover;\" src=\"data:image/png;base64,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\"/></div></div></div></td><td style=\"padding:1px;\"><div style=\"display:flex; align-items:left;\">\n",
       "      <div style=\"display:flex; flex-direction:column; align-items:center;\">\n",
       "      <div>Step 80</div><div><img width=\"128\" height=\"128\" style=\"image-rendering:pixelated; object-fit:cover;\" src=\"data:image/png;base64,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\"/></div></div></div></td><td style=\"padding:1px;\"><div style=\"display:flex; align-items:left;\">\n",
       "      <div style=\"display:flex; flex-direction:column; align-items:center;\">\n",
       "      <div>Step 90</div><div><img width=\"128\" height=\"128\" style=\"image-rendering:pixelated; object-fit:cover;\" src=\"data:image/png;base64,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\"/></div></div></div></td><td style=\"padding:1px;\"><div style=\"display:flex; align-items:left;\">\n",
       "      <div style=\"display:flex; flex-direction:column; align-items:center;\">\n",
       "      <div>Step 100</div><div><img width=\"128\" height=\"128\" style=\"image-rendering:pixelated; object-fit:cover;\" src=\"data:image/png;base64,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\"/></div></div></div></td></tr></table>"
      ],
      "text/plain": [
       "<IPython.core.display.HTML object>"
      ]
     },
     "metadata": {},
     "output_type": "display_data"
    }
   ],
   "source": [
    "data = {}\n",
    "for i, f in enumerate(overlay_frames):\n",
    "    step = i*10\n",
    "    data[f\"Step {step}\"] = f\n",
    "media.show_images(data)"
   ]
  },
  {
   "cell_type": "code",
   "execution_count": null,
   "metadata": {},
   "outputs": [],
   "source": []
  }
 ],
 "metadata": {
  "kernelspec": {
   "display_name": "Python 3",
   "language": "python",
   "name": "python3"
  },
  "language_info": {
   "codemirror_mode": {
    "name": "ipython",
    "version": 3
   },
   "file_extension": ".py",
   "mimetype": "text/x-python",
   "name": "python",
   "nbconvert_exporter": "python",
   "pygments_lexer": "ipython3",
   "version": "3.7.12"
  }
 },
 "nbformat": 4,
 "nbformat_minor": 4
}
